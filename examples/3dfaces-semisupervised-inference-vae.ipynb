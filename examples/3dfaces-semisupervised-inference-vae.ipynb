{
 "cells": [
  {
   "cell_type": "code",
   "execution_count": 1,
   "metadata": {},
   "outputs": [
    {
     "name": "stdout",
     "output_type": "stream",
     "text": [
      "probtorch: 0.0+37699fa torch: 0.3.0.post4 cuda: True\n"
     ]
    }
   ],
   "source": [
    "import matplotlib.pyplot as plt\n",
    "import numpy as np\n",
    "from scipy.stats import norm\n",
    "import torch\n",
    "import torch.nn as nn\n",
    "from torch.autograd import Variable\n",
    "from torch.nn import Parameter\n",
    "import sys\n",
    "sys.path.insert(0,'../')\n",
    "import probtorch\n",
    "print('probtorch:', probtorch.__version__, \n",
    "      'torch:', torch.__version__, \n",
    "      'cuda:', torch.cuda.is_available())"
   ]
  },
  {
   "cell_type": "code",
   "execution_count": 2,
   "metadata": {
    "collapsed": true
   },
   "outputs": [],
   "source": [
    "from functools import wraps\n",
    "\n",
    "# TODO: move this into probtorch.util\n",
    "def expand_inputs(f):\n",
    "    @wraps(f)\n",
    "    def g(*args, num_samples=None, **kwargs):\n",
    "        if not num_samples is None:\n",
    "            new_args = []\n",
    "            new_kwargs = {}\n",
    "            for arg in args:\n",
    "                if hasattr(arg, 'expand'):\n",
    "                    new_args.append(arg.expand(num_samples, *arg.size()))\n",
    "                else:\n",
    "                    new_args.append(arg)\n",
    "            for k in kwargs:\n",
    "                arg = kwargs[k]\n",
    "                if hasattr(arg, 'expand'):\n",
    "                    new_args.append(arg.expand(num_samples, *arg.size()))\n",
    "                else:\n",
    "                    new_args.append(arg)\n",
    "            return f(*new_args, num_samples=num_samples, **new_kwargs)\n",
    "        else:\n",
    "            return f(*args, num_samples=None, **kwargs)\n",
    "    return g"
   ]
  },
  {
   "cell_type": "markdown",
   "metadata": {},
   "source": [
    "# Parameters"
   ]
  },
  {
   "cell_type": "code",
   "execution_count": 3,
   "metadata": {
    "collapsed": true
   },
   "outputs": [],
   "source": [
    "# Model Paramters:\n",
    "NUM_LATENT = 64\n",
    "\n",
    "# Training Parameters:\n",
    "NUM_SAMPLES = 1\n",
    "NUM_BATCH = 512\n",
    "NUM_EPOCHS = 100\n",
    "LABEL_FRACTION = 0.0\n",
    "LEARNING_RATE = 1e-3\n",
    "EPS = 1e-9\n",
    "CUDA = torch.cuda.is_available()\n",
    "\n",
    "# LOSS parameters:\n",
    "ALPHA = 0.1\n",
    "BETA = (1.0, 1.0, 0.0, 4.0, 1.0) "
   ]
  },
  {
   "cell_type": "markdown",
   "metadata": {},
   "source": [
    "# Encoder Model"
   ]
  },
  {
   "cell_type": "code",
   "execution_count": 11,
   "metadata": {
    "collapsed": true
   },
   "outputs": [],
   "source": [
    "class Encoder(nn.Module):\n",
    "    def __init__(self, num_latent=NUM_LATENT):\n",
    "        super(self.__class__, self).__init__()\n",
    "        self.enc = nn.Sequential(\n",
    "            nn.Conv2d(1, 64, 4, 2, 1),     # 32 x 32\n",
    "            nn.BatchNorm2d(64),\n",
    "            nn.ReLU(inplace=True),\n",
    "            nn.Conv2d(64, 128, 4, 2, 1),   # 16 x 16\n",
    "            nn.BatchNorm2d(128),\n",
    "            nn.ReLU(inplace=True),\n",
    "            nn.Conv2d(128, 128, 4, 2, 1),  # 8 x 8\n",
    "            nn.BatchNorm2d(128),\n",
    "            nn.ReLU(inplace=True),\n",
    "            nn.Conv2d(128, 256, 4, 2, 1),  # 4 x 4\n",
    "            nn.BatchNorm2d(256),\n",
    "            nn.ReLU(inplace=True),\n",
    "            nn.Conv2d(256, 512, 4),\n",
    "            nn.BatchNorm2d(512),\n",
    "            nn.ReLU(inplace=True),\n",
    "            # nn.Conv2d(512, num_latent, 1),\n",
    "        )\n",
    "        self.mu = nn.Conv2d(512, num_latent, 1)\n",
    "        self.logvar = nn.Conv2d(512, num_latent, 1)\n",
    "\n",
    "    @expand_inputs\n",
    "    def forward(self, images, labels=None, num_samples=None):\n",
    "        q = probtorch.Trace()\n",
    "        enc = self.enc(images.view(-1, 1, 64, 64))\n",
    "        mu = self.mu(enc).squeeze()\n",
    "        logvar = self.logvar(enc).squeeze()\n",
    "        latent = q.normal(mu, logvar, name='z')  # need to figure out how they set stdev\n",
    "        return q "
   ]
  },
  {
   "cell_type": "markdown",
   "metadata": {},
   "source": [
    "# Decoder Model"
   ]
  },
  {
   "cell_type": "code",
   "execution_count": 12,
   "metadata": {
    "collapsed": true
   },
   "outputs": [],
   "source": [
    "def binary_cross_entropy(x_mean, x, EPS=1e-9):\n",
    "    return - (torch.log(x_mean + EPS) * x + \n",
    "              torch.log(1 - x_mean + EPS) * (1 - x)).sum(-1)\n",
    "\n",
    "class Decoder(nn.Module):\n",
    "    def __init__(self, num_latent=NUM_LATENT):        \n",
    "        super(self.__class__, self).__init__()\n",
    "        self.dec = nn.Sequential(\n",
    "            nn.ConvTranspose2d(num_latent, 512, 1, 1, 0),  # 1 x 1\n",
    "            nn.BatchNorm2d(512),\n",
    "            nn.ReLU(inplace=True),\n",
    "            nn.ConvTranspose2d(512, 256, 4, 1, 0),         # 4 x 4\n",
    "            nn.BatchNorm2d(256),\n",
    "            nn.ReLU(inplace=True),\n",
    "            nn.ConvTranspose2d(256, 128, 4, 2, 1),         # 8 x 8\n",
    "            nn.BatchNorm2d(128),\n",
    "            nn.ReLU(inplace=True),\n",
    "            nn.ConvTranspose2d(128, 128, 4, 2, 1),         # 16 x 16\n",
    "            nn.BatchNorm2d(128),\n",
    "            nn.ReLU(inplace=True),\n",
    "            nn.ConvTranspose2d(128, 64, 4, 2, 1),          # 32 x 32\n",
    "            nn.BatchNorm2d(64),\n",
    "            nn.ReLU(inplace=True),\n",
    "            nn.ConvTranspose2d(64, 1, 4, 2, 1)             # 64 x 64\n",
    "        )\n",
    "        \n",
    "        \n",
    "    def forward(self, images, q=None, num_samples=None):\n",
    "        p = probtorch.Trace()\n",
    "        b_size = images.size(0)\n",
    "        latent = p.normal(0.0, 1.0, value=q['z'], name='z')\n",
    "        images_mean = self.dec(latent.view(b_size, -1, 1, 1)).view(b_size, 1, 64, 64).sigmoid()\n",
    "        p.loss(binary_cross_entropy, images_mean, images, name='images')\n",
    "        return p"
   ]
  },
  {
   "cell_type": "markdown",
   "metadata": {},
   "source": [
    "# Loss"
   ]
  },
  {
   "cell_type": "code",
   "execution_count": 13,
   "metadata": {
    "collapsed": true
   },
   "outputs": [],
   "source": [
    "def elbo(q, p, alpha=ALPHA, beta=BETA):\n",
    "    return probtorch.objectives.montecarlo.elbo(q, p, alpha=alpha, beta=beta[0])"
   ]
  },
  {
   "cell_type": "markdown",
   "metadata": {},
   "source": [
    "# Data"
   ]
  },
  {
   "cell_type": "code",
   "execution_count": 14,
   "metadata": {
    "collapsed": true
   },
   "outputs": [],
   "source": [
    "from torchvision import datasets, transforms\n",
    "import os \n",
    "DATA_PATH = '../data/3dfaces/'\n",
    "\n",
    "if not os.path.isdir(DATA_PATH):\n",
    "    os.makedirs(DATA_PATH)\n",
    "\n",
    "train_d = torch.load(DATA_PATH + 'train_data.rar')\n",
    "test_d = torch.load(DATA_PATH + 'test_data.rar')\n",
    "\n",
    "train_data = torch.utils.data.DataLoader(\n",
    "                torch.utils.data.TensorDataset(train_d, torch.Tensor(train_d.size(0), 1)),\n",
    "                batch_size=NUM_BATCH, shuffle=True)\n",
    "test_data = torch.utils.data.DataLoader(\n",
    "                torch.utils.data.TensorDataset(test_d, torch.Tensor(test_d.size(0), 1)),\n",
    "                batch_size=NUM_BATCH, shuffle=True) "
   ]
  },
  {
   "cell_type": "markdown",
   "metadata": {},
   "source": [
    "# Training and Testing"
   ]
  },
  {
   "cell_type": "code",
   "execution_count": 15,
   "metadata": {
    "collapsed": true
   },
   "outputs": [],
   "source": [
    "enc = Encoder()\n",
    "dec = Decoder()\n",
    "if CUDA:\n",
    "    enc.cuda()\n",
    "    dec.cuda()\n",
    "optimizer =  torch.optim.Adam(list(enc.parameters())+list(dec.parameters()),\n",
    "                              lr=LEARNING_RATE)\n"
   ]
  },
  {
   "cell_type": "code",
   "execution_count": 16,
   "metadata": {
    "collapsed": true
   },
   "outputs": [],
   "source": [
    "def train(data, enc, dec, optimizer, \n",
    "          label_mask={}, label_fraction=LABEL_FRACTION):\n",
    "    epoch_elbo = 0.0\n",
    "    enc.train()\n",
    "    dec.train()\n",
    "    for b, (images, labels) in enumerate(data):        \n",
    "        #images = images.view(-1, NUM_PIXELS)\n",
    "        if CUDA:\n",
    "            images = images.cuda()\n",
    "        images = Variable(images)\n",
    "        optimizer.zero_grad()\n",
    "        if b not in label_mask:\n",
    "            label_mask[b] = (random() < label_fraction)\n",
    "        if label_mask[b]:\n",
    "            labels_onehot = torch.zeros(NUM_BATCH, 1)\n",
    "            #labels_onehot.scatter_(1, labels.unsqueeze(1), 1)\n",
    "            #labels_onehot = torch.clamp(labels_onehot, EPS, 1-EPS)\n",
    "            #labels_onehot = Variable(labels_onehot)\n",
    "            if CUDA:\n",
    "                labels_onehot = labels_onehot.cuda()\n",
    "            q = enc(images, labels_onehot, num_samples=NUM_SAMPLES)\n",
    "        else:\n",
    "            q = enc(images, num_samples=NUM_SAMPLES)\n",
    "        p = dec(images, q, num_samples=NUM_SAMPLES)\n",
    "        loss = -elbo(q, p)\n",
    "        loss.backward()\n",
    "        optimizer.step()\n",
    "        if CUDA:\n",
    "            loss = loss.cpu()\n",
    "        epoch_elbo -= loss.data.numpy()[0]\n",
    "    return epoch_elbo / len(train_data.dataset), label_mask\n",
    "\n",
    "\n",
    "def test(data, enc, dec, infer=True):\n",
    "    enc.eval()\n",
    "    dec.eval()\n",
    "    epoch_elbo = 0.0\n",
    "    epoch_correct = 0\n",
    "    N = len(test_data.dataset)\n",
    "    for b, (images, labels) in enumerate(data):\n",
    "        if CUDA:\n",
    "            images = images.cuda()\n",
    "        images = Variable(images)\n",
    "        q = enc(images, num_samples=NUM_SAMPLES)\n",
    "        p = dec(images, q, num_samples=NUM_SAMPLES)\n",
    "        batch_elbo = elbo(q, p)\n",
    "        if CUDA:\n",
    "            batch_elbo = batch_elbo.cpu()\n",
    "        epoch_elbo += batch_elbo.data.numpy()[0]\n",
    "\n",
    "    return epoch_elbo / N, epoch_correct / N\n"
   ]
  },
  {
   "cell_type": "code",
   "execution_count": 17,
   "metadata": {},
   "outputs": [
    {
     "name": "stdout",
     "output_type": "stream",
     "text": [
      "[Epoch 0] Train: ELBO -1.6265e+03 (53s) Test: ELBO -1.7814e+03, Accuracy 0.000 (8s)\n",
      "[Epoch 1] Train: ELBO -1.5535e+03 (53s) Test: ELBO -1.5773e+03, Accuracy 0.000 (9s)\n",
      "[Epoch 2] Train: ELBO -1.5408e+03 (54s) Test: ELBO -1.5294e+03, Accuracy 0.000 (9s)\n",
      "[Epoch 3] Train: ELBO -1.5762e+03 (54s) Test: ELBO -1.5624e+03, Accuracy 0.000 (9s)\n",
      "[Epoch 4] Train: ELBO -1.5487e+03 (54s) Test: ELBO -1.5409e+03, Accuracy 0.000 (8s)\n",
      "[Epoch 5] Train: ELBO -1.5638e+03 (54s) Test: ELBO -1.5570e+03, Accuracy 0.000 (9s)\n",
      "[Epoch 6] Train: ELBO -1.5462e+03 (53s) Test: ELBO -1.5472e+03, Accuracy 0.000 (9s)\n",
      "[Epoch 7] Train: ELBO -1.5370e+03 (54s) Test: ELBO -1.5542e+03, Accuracy 0.000 (9s)\n",
      "[Epoch 8] Train: ELBO -1.5385e+03 (54s) Test: ELBO -1.5605e+03, Accuracy 0.000 (9s)\n",
      "[Epoch 9] Train: ELBO -1.5463e+03 (54s) Test: ELBO -1.5528e+03, Accuracy 0.000 (9s)\n",
      "[Epoch 10] Train: ELBO -1.5435e+03 (54s) Test: ELBO -1.5305e+03, Accuracy 0.000 (9s)\n",
      "[Epoch 11] Train: ELBO -1.5307e+03 (55s) Test: ELBO -1.5362e+03, Accuracy 0.000 (9s)\n",
      "[Epoch 12] Train: ELBO -1.5337e+03 (54s) Test: ELBO -1.5351e+03, Accuracy 0.000 (9s)\n",
      "[Epoch 13] Train: ELBO -1.5261e+03 (54s) Test: ELBO -1.5259e+03, Accuracy 0.000 (9s)\n",
      "[Epoch 14] Train: ELBO -1.5237e+03 (54s) Test: ELBO -1.5200e+03, Accuracy 0.000 (9s)\n",
      "[Epoch 15] Train: ELBO -1.5176e+03 (54s) Test: ELBO -1.5179e+03, Accuracy 0.000 (9s)\n",
      "[Epoch 16] Train: ELBO -1.5248e+03 (55s) Test: ELBO -1.5296e+03, Accuracy 0.000 (9s)\n",
      "[Epoch 17] Train: ELBO -1.5280e+03 (53s) Test: ELBO -1.5248e+03, Accuracy 0.000 (9s)\n",
      "[Epoch 18] Train: ELBO -1.5187e+03 (54s) Test: ELBO -1.5452e+03, Accuracy 0.000 (9s)\n",
      "[Epoch 19] Train: ELBO -1.5243e+03 (54s) Test: ELBO -1.5381e+03, Accuracy 0.000 (9s)\n",
      "[Epoch 20] Train: ELBO -1.5234e+03 (54s) Test: ELBO -1.5181e+03, Accuracy 0.000 (9s)\n"
     ]
    },
    {
     "ename": "KeyboardInterrupt",
     "evalue": "",
     "output_type": "error",
     "traceback": [
      "\u001b[1;31m---------------------------------------------------------------------------\u001b[0m",
      "\u001b[1;31mKeyboardInterrupt\u001b[0m                         Traceback (most recent call last)",
      "\u001b[1;32m<ipython-input-17-72644f92f3b2>\u001b[0m in \u001b[0;36m<module>\u001b[1;34m()\u001b[0m\n\u001b[0;32m      9\u001b[0m     \u001b[0mtrain_start\u001b[0m \u001b[1;33m=\u001b[0m \u001b[0mtime\u001b[0m\u001b[1;33m.\u001b[0m\u001b[0mtime\u001b[0m\u001b[1;33m(\u001b[0m\u001b[1;33m)\u001b[0m\u001b[1;33m\u001b[0m\u001b[0m\n\u001b[0;32m     10\u001b[0m     train_elbo, mask = train(train_data, enc, dec, \n\u001b[1;32m---> 11\u001b[1;33m                              optimizer, mask, LABEL_FRACTION)\n\u001b[0m\u001b[0;32m     12\u001b[0m     \u001b[0mtrain_end\u001b[0m \u001b[1;33m=\u001b[0m \u001b[0mtime\u001b[0m\u001b[1;33m.\u001b[0m\u001b[0mtime\u001b[0m\u001b[1;33m(\u001b[0m\u001b[1;33m)\u001b[0m\u001b[1;33m\u001b[0m\u001b[0m\n\u001b[0;32m     13\u001b[0m     \u001b[0mtest_start\u001b[0m \u001b[1;33m=\u001b[0m \u001b[0mtime\u001b[0m\u001b[1;33m.\u001b[0m\u001b[0mtime\u001b[0m\u001b[1;33m(\u001b[0m\u001b[1;33m)\u001b[0m\u001b[1;33m\u001b[0m\u001b[0m\n",
      "\u001b[1;32m<ipython-input-16-b90fd9e1cb54>\u001b[0m in \u001b[0;36mtrain\u001b[1;34m(data, enc, dec, optimizer, label_mask, label_fraction)\u001b[0m\n\u001b[0;32m     27\u001b[0m         \u001b[0moptimizer\u001b[0m\u001b[1;33m.\u001b[0m\u001b[0mstep\u001b[0m\u001b[1;33m(\u001b[0m\u001b[1;33m)\u001b[0m\u001b[1;33m\u001b[0m\u001b[0m\n\u001b[0;32m     28\u001b[0m         \u001b[1;32mif\u001b[0m \u001b[0mCUDA\u001b[0m\u001b[1;33m:\u001b[0m\u001b[1;33m\u001b[0m\u001b[0m\n\u001b[1;32m---> 29\u001b[1;33m             \u001b[0mloss\u001b[0m \u001b[1;33m=\u001b[0m \u001b[0mloss\u001b[0m\u001b[1;33m.\u001b[0m\u001b[0mcpu\u001b[0m\u001b[1;33m(\u001b[0m\u001b[1;33m)\u001b[0m\u001b[1;33m\u001b[0m\u001b[0m\n\u001b[0m\u001b[0;32m     30\u001b[0m         \u001b[0mepoch_elbo\u001b[0m \u001b[1;33m-=\u001b[0m \u001b[0mloss\u001b[0m\u001b[1;33m.\u001b[0m\u001b[0mdata\u001b[0m\u001b[1;33m.\u001b[0m\u001b[0mnumpy\u001b[0m\u001b[1;33m(\u001b[0m\u001b[1;33m)\u001b[0m\u001b[1;33m[\u001b[0m\u001b[1;36m0\u001b[0m\u001b[1;33m]\u001b[0m\u001b[1;33m\u001b[0m\u001b[0m\n\u001b[0;32m     31\u001b[0m     \u001b[1;32mreturn\u001b[0m \u001b[0mepoch_elbo\u001b[0m \u001b[1;33m/\u001b[0m \u001b[0mlen\u001b[0m\u001b[1;33m(\u001b[0m\u001b[0mtrain_data\u001b[0m\u001b[1;33m.\u001b[0m\u001b[0mdataset\u001b[0m\u001b[1;33m)\u001b[0m\u001b[1;33m,\u001b[0m \u001b[0mlabel_mask\u001b[0m\u001b[1;33m\u001b[0m\u001b[0m\n",
      "\u001b[1;32m~/.virtualenvs/pytorchie/lib/python3.6/site-packages/torch/autograd/variable.py\u001b[0m in \u001b[0;36mcpu\u001b[1;34m(self)\u001b[0m\n\u001b[0;32m    299\u001b[0m \u001b[1;33m\u001b[0m\u001b[0m\n\u001b[0;32m    300\u001b[0m     \u001b[1;32mdef\u001b[0m \u001b[0mcpu\u001b[0m\u001b[1;33m(\u001b[0m\u001b[0mself\u001b[0m\u001b[1;33m)\u001b[0m\u001b[1;33m:\u001b[0m\u001b[1;33m\u001b[0m\u001b[0m\n\u001b[1;32m--> 301\u001b[1;33m         \u001b[1;32mreturn\u001b[0m \u001b[0mself\u001b[0m\u001b[1;33m.\u001b[0m\u001b[0mtype\u001b[0m\u001b[1;33m(\u001b[0m\u001b[0mgetattr\u001b[0m\u001b[1;33m(\u001b[0m\u001b[0mtorch\u001b[0m\u001b[1;33m,\u001b[0m \u001b[0mtype\u001b[0m\u001b[1;33m(\u001b[0m\u001b[0mself\u001b[0m\u001b[1;33m.\u001b[0m\u001b[0mdata\u001b[0m\u001b[1;33m)\u001b[0m\u001b[1;33m.\u001b[0m\u001b[0m__name__\u001b[0m\u001b[1;33m)\u001b[0m\u001b[1;33m)\u001b[0m\u001b[1;33m\u001b[0m\u001b[0m\n\u001b[0m\u001b[0;32m    302\u001b[0m \u001b[1;33m\u001b[0m\u001b[0m\n\u001b[0;32m    303\u001b[0m     \u001b[1;32mdef\u001b[0m \u001b[0mdouble\u001b[0m\u001b[1;33m(\u001b[0m\u001b[0mself\u001b[0m\u001b[1;33m)\u001b[0m\u001b[1;33m:\u001b[0m\u001b[1;33m\u001b[0m\u001b[0m\n",
      "\u001b[1;32m~/.virtualenvs/pytorchie/lib/python3.6/site-packages/torch/autograd/variable.py\u001b[0m in \u001b[0;36mtype\u001b[1;34m(self, t)\u001b[0m\n\u001b[0;32m    283\u001b[0m     \u001b[1;32mdef\u001b[0m \u001b[0mtype\u001b[0m\u001b[1;33m(\u001b[0m\u001b[0mself\u001b[0m\u001b[1;33m,\u001b[0m \u001b[0mt\u001b[0m\u001b[1;33m)\u001b[0m\u001b[1;33m:\u001b[0m\u001b[1;33m\u001b[0m\u001b[0m\n\u001b[0;32m    284\u001b[0m         \u001b[1;32mif\u001b[0m \u001b[0mt\u001b[0m \u001b[1;33m!=\u001b[0m \u001b[0mtype\u001b[0m\u001b[1;33m(\u001b[0m\u001b[0mself\u001b[0m\u001b[1;33m.\u001b[0m\u001b[0mdata\u001b[0m\u001b[1;33m)\u001b[0m\u001b[1;33m:\u001b[0m\u001b[1;33m\u001b[0m\u001b[0m\n\u001b[1;32m--> 285\u001b[1;33m             \u001b[1;32mreturn\u001b[0m \u001b[0mType\u001b[0m\u001b[1;33m.\u001b[0m\u001b[0mapply\u001b[0m\u001b[1;33m(\u001b[0m\u001b[0mself\u001b[0m\u001b[1;33m,\u001b[0m \u001b[0mt\u001b[0m\u001b[1;33m)\u001b[0m\u001b[1;33m\u001b[0m\u001b[0m\n\u001b[0m\u001b[0;32m    286\u001b[0m         \u001b[1;32mreturn\u001b[0m \u001b[0mself\u001b[0m\u001b[1;33m\u001b[0m\u001b[0m\n\u001b[0;32m    287\u001b[0m \u001b[1;33m\u001b[0m\u001b[0m\n",
      "\u001b[1;32m~/.virtualenvs/pytorchie/lib/python3.6/site-packages/torch/autograd/_functions/tensor.py\u001b[0m in \u001b[0;36mforward\u001b[1;34m(ctx, i, dest_type)\u001b[0m\n\u001b[0;32m    179\u001b[0m         \u001b[0mctx\u001b[0m\u001b[1;33m.\u001b[0m\u001b[0minput_type\u001b[0m \u001b[1;33m=\u001b[0m \u001b[0mtype\u001b[0m\u001b[1;33m(\u001b[0m\u001b[0mi\u001b[0m\u001b[1;33m)\u001b[0m\u001b[1;33m\u001b[0m\u001b[0m\n\u001b[0;32m    180\u001b[0m         \u001b[0mctx\u001b[0m\u001b[1;33m.\u001b[0m\u001b[0minput_device\u001b[0m \u001b[1;33m=\u001b[0m \u001b[1;33m-\u001b[0m\u001b[1;36m1\u001b[0m \u001b[1;32mif\u001b[0m \u001b[1;32mnot\u001b[0m \u001b[0mi\u001b[0m\u001b[1;33m.\u001b[0m\u001b[0mis_cuda\u001b[0m \u001b[1;32melse\u001b[0m \u001b[0mi\u001b[0m\u001b[1;33m.\u001b[0m\u001b[0mget_device\u001b[0m\u001b[1;33m(\u001b[0m\u001b[1;33m)\u001b[0m\u001b[1;33m\u001b[0m\u001b[0m\n\u001b[1;32m--> 181\u001b[1;33m         \u001b[1;32mreturn\u001b[0m \u001b[0mi\u001b[0m\u001b[1;33m.\u001b[0m\u001b[0mtype\u001b[0m\u001b[1;33m(\u001b[0m\u001b[0mdest_type\u001b[0m\u001b[1;33m)\u001b[0m\u001b[1;33m\u001b[0m\u001b[0m\n\u001b[0m\u001b[0;32m    182\u001b[0m \u001b[1;33m\u001b[0m\u001b[0m\n\u001b[0;32m    183\u001b[0m     \u001b[1;33m@\u001b[0m\u001b[0mstaticmethod\u001b[0m\u001b[1;33m\u001b[0m\u001b[0m\n",
      "\u001b[1;32m~/.virtualenvs/pytorchie/lib/python3.6/site-packages/torch/cuda/__init__.py\u001b[0m in \u001b[0;36mtype\u001b[1;34m(self, *args, **kwargs)\u001b[0m\n\u001b[0;32m    368\u001b[0m     \u001b[1;32mdef\u001b[0m \u001b[0mtype\u001b[0m\u001b[1;33m(\u001b[0m\u001b[0mself\u001b[0m\u001b[1;33m,\u001b[0m \u001b[1;33m*\u001b[0m\u001b[0margs\u001b[0m\u001b[1;33m,\u001b[0m \u001b[1;33m**\u001b[0m\u001b[0mkwargs\u001b[0m\u001b[1;33m)\u001b[0m\u001b[1;33m:\u001b[0m\u001b[1;33m\u001b[0m\u001b[0m\n\u001b[0;32m    369\u001b[0m         \u001b[1;32mwith\u001b[0m \u001b[0mdevice\u001b[0m\u001b[1;33m(\u001b[0m\u001b[0mself\u001b[0m\u001b[1;33m.\u001b[0m\u001b[0mget_device\u001b[0m\u001b[1;33m(\u001b[0m\u001b[1;33m)\u001b[0m\u001b[1;33m)\u001b[0m\u001b[1;33m:\u001b[0m\u001b[1;33m\u001b[0m\u001b[0m\n\u001b[1;32m--> 370\u001b[1;33m             \u001b[1;32mreturn\u001b[0m \u001b[0msuper\u001b[0m\u001b[1;33m(\u001b[0m\u001b[0m_CudaBase\u001b[0m\u001b[1;33m,\u001b[0m \u001b[0mself\u001b[0m\u001b[1;33m)\u001b[0m\u001b[1;33m.\u001b[0m\u001b[0mtype\u001b[0m\u001b[1;33m(\u001b[0m\u001b[1;33m*\u001b[0m\u001b[0margs\u001b[0m\u001b[1;33m,\u001b[0m \u001b[1;33m**\u001b[0m\u001b[0mkwargs\u001b[0m\u001b[1;33m)\u001b[0m\u001b[1;33m\u001b[0m\u001b[0m\n\u001b[0m\u001b[0;32m    371\u001b[0m \u001b[1;33m\u001b[0m\u001b[0m\n\u001b[0;32m    372\u001b[0m     \u001b[0m__new__\u001b[0m \u001b[1;33m=\u001b[0m \u001b[0m_lazy_new\u001b[0m\u001b[1;33m\u001b[0m\u001b[0m\n",
      "\u001b[1;32m~/.virtualenvs/pytorchie/lib/python3.6/site-packages/torch/_utils.py\u001b[0m in \u001b[0;36m_type\u001b[1;34m(self, new_type, async)\u001b[0m\n\u001b[0;32m     36\u001b[0m     \u001b[1;32mif\u001b[0m \u001b[0mnew_type\u001b[0m\u001b[1;33m.\u001b[0m\u001b[0mis_sparse\u001b[0m\u001b[1;33m:\u001b[0m\u001b[1;33m\u001b[0m\u001b[0m\n\u001b[0;32m     37\u001b[0m         \u001b[1;32mraise\u001b[0m \u001b[0mRuntimeError\u001b[0m\u001b[1;33m(\u001b[0m\u001b[1;34m\"Cannot cast dense tensor to sparse tensor\"\u001b[0m\u001b[1;33m)\u001b[0m\u001b[1;33m\u001b[0m\u001b[0m\n\u001b[1;32m---> 38\u001b[1;33m     \u001b[1;32mreturn\u001b[0m \u001b[0mnew_type\u001b[0m\u001b[1;33m(\u001b[0m\u001b[0mself\u001b[0m\u001b[1;33m.\u001b[0m\u001b[0msize\u001b[0m\u001b[1;33m(\u001b[0m\u001b[1;33m)\u001b[0m\u001b[1;33m)\u001b[0m\u001b[1;33m.\u001b[0m\u001b[0mcopy_\u001b[0m\u001b[1;33m(\u001b[0m\u001b[0mself\u001b[0m\u001b[1;33m,\u001b[0m \u001b[0masync\u001b[0m\u001b[1;33m)\u001b[0m\u001b[1;33m\u001b[0m\u001b[0m\n\u001b[0m\u001b[0;32m     39\u001b[0m \u001b[1;33m\u001b[0m\u001b[0m\n\u001b[0;32m     40\u001b[0m \u001b[1;33m\u001b[0m\u001b[0m\n",
      "\u001b[1;31mKeyboardInterrupt\u001b[0m: "
     ]
    }
   ],
   "source": [
    "import time\n",
    "from random import random\n",
    "\n",
    "train_elbo_dict = {'ELBO':[], 'Recun Loss': [], 'TC': [], 'PriorZ':[], 'PriorY':[], 'MI':[]}\n",
    "test_elbo_dict = {'ELBO':[], 'Recun Loss': [], 'TC': [], 'PriorZ':[], 'PriorY':[], 'MI':[]}\n",
    "test_acc_list = []\n",
    "mask = {}\n",
    "for e in range(NUM_EPOCHS):\n",
    "    train_start = time.time()\n",
    "    train_elbo, mask = train(train_data, enc, dec, \n",
    "                             optimizer, mask, LABEL_FRACTION)\n",
    "    train_end = time.time()\n",
    "    test_start = time.time()\n",
    "    test_elbo, test_accuracy = test(test_data, enc, dec)\n",
    "    test_end = time.time()\n",
    "    \n",
    "    test_acc_list.append(test_accuracy)\n",
    "    print('[Epoch %d] Train: ELBO %.4e (%ds) Test: ELBO %.4e, Accuracy %0.3f (%ds)' % (\n",
    "            e, train_elbo, train_end - train_start, \n",
    "            test_elbo, test_accuracy, test_end - test_start))"
   ]
  },
  {
   "cell_type": "markdown",
   "metadata": {},
   "source": [
    "# Visualise Reconstructions"
   ]
  },
  {
   "cell_type": "code",
   "execution_count": 19,
   "metadata": {},
   "outputs": [],
   "source": [
    "from torchvision.utils import make_grid\n",
    "\n",
    "def show(img):\n",
    "    npimg = img.numpy()\n",
    "    plt.figure(figsize=(20, 2))\n",
    "    plt.imshow(np.transpose(npimg, (1,2,0)), interpolation='nearest')\n",
    "    plt.tight_layout()\n",
    "\n",
    "test_DL = torch.utils.data.DataLoader(\n",
    "            torch.utils.data.TensorDataset(test_d, torch.zeros(test_d.size(0), 1)),\n",
    "            batch_size=15, shuffle=True) "
   ]
  },
  {
   "cell_type": "code",
   "execution_count": 20,
   "metadata": {},
   "outputs": [
    {
     "data": {
      "image/png": "[encoded data removed]",
      "text/plain": [
       "<matplotlib.figure.Figure at 0x7f24056105c0>"
      ]
     },
     "metadata": {},
     "output_type": "display_data"
    }
   ],
   "source": [
    "for i, (images, _) in enumerate(test_DL):\n",
    "    if CUDA:\n",
    "        images = images.cuda()\n",
    "    images = Variable(images)\n",
    "    q = enc(images, num_samples=NUM_SAMPLES)\n",
    "    p = dec(images, q, num_samples=NUM_SAMPLES)\n",
    "    recon = p['images'].value\n",
    "    break\n",
    "\n",
    "show(make_grid(torch.cat([images, recon], 0).data.cpu(), nrow=15))"
   ]
  },
  {
   "cell_type": "markdown",
   "metadata": {},
   "source": [
    "# Visualize Encodings"
   ]
  },
  {
   "cell_type": "code",
   "execution_count": null,
   "metadata": {
    "collapsed": true
   },
   "outputs": [],
   "source": [
    "# Get all the embeddings\n",
    "Zs = []\n",
    "for b, (images, labels) in enumerate(train_data):\n",
    "    enc.eval()\n",
    "    if CUDA:\n",
    "        images = images.cuda()\n",
    "    images = Variable(images, volatile=True)\n",
    "    q = enc(images, num_samples=NUM_SAMPLES)\n",
    "    Zs.append(q['z'].value)\n",
    "\n",
    "Zs = torch.cat(Zs, 0).data.squeeze().cpu().numpy()"
   ]
  },
  {
   "cell_type": "code",
   "execution_count": null,
   "metadata": {
    "collapsed": true
   },
   "outputs": [],
   "source": [
    "f, axarr = plt.subplots(NUM_LATENT, NUM_LATENT, figsize=(30, 30), sharex=True)\n",
    "f.suptitle(r'$Z \\ Embeddings$' , fontsize=30)\n",
    "\n",
    "for i in range(NUM_LATENT):\n",
    "    axarr[NUM_LATENT-1,i].set_xlabel(r'$\\mathbf{z_{%d}}$' % i, fontsize=10)\n",
    "    axarr[i,0].set_ylabel(r'$\\mathbf{z_{%d}}$' % i, fontsize=10)\n",
    "    for j in range(NUM_LATENT):\n",
    "        if i==j:\n",
    "            axarr[j,i].hist(Zs[:,i], bins=40)\n",
    "        else:\n",
    "            axarr[j,i].scatter(Zs[:,i],Zs[:,j],alpha=0.5)\n",
    "            \n",
    "plt.show()"
   ]
  },
  {
   "cell_type": "markdown",
   "metadata": {},
   "source": [
    "# Go no further!!"
   ]
  },
  {
   "cell_type": "markdown",
   "metadata": {},
   "source": [
    "# Let's see some Features!"
   ]
  },
  {
   "cell_type": "code",
   "execution_count": null,
   "metadata": {
    "collapsed": true
   },
   "outputs": [],
   "source": [
    "def vary_z2(index, zmin, zmax):\n",
    "    f, axarr = plt.subplots(10,10,figsize=(10,10),sharey=True)\n",
    "    f.suptitle(r'$\\mathbf{z_{%d}} \\ \\  varying$' % index , fontsize=30)\n",
    "    z_range = np.linspace(zmin,zmax,num=10)\n",
    "    \n",
    "    for i in range(10):\n",
    "        for j in range(10):\n",
    "            z = torch.zeros(1,10)\n",
    "            z[0,index] = z_range[i]\n",
    "            z = Variable(z.cuda())\n",
    "            null_image = Variable(torch.Tensor(np.zeros((1, 784)))).cuda()\n",
    "            y_hot = np.zeros((1,10))\n",
    "            y_hot[0,j] = 1\n",
    "            y_hot = Variable(torch.FloatTensor(y_hot).cuda())\n",
    "            q_null = {'z': z, 'y':y_hot}\n",
    "            p = dec(null_image, q_null, num_samples=NUM_SAMPLES) \n",
    "            image = p['images']\n",
    "            image = image.value.cpu().data.numpy().reshape(28,28)\n",
    "            axarr[i,j].imshow(image)\n",
    "            axarr[i,j].axis('off')\n",
    "            \n",
    "    return None\n",
    "\n",
    "for style in range(NUM_STYLE):\n",
    "    vary_z2(style, -3, 3)\n",
    "    plt.show()"
   ]
  },
  {
   "cell_type": "markdown",
   "metadata": {},
   "source": [
    "1. feature 0: Horizontal angles (look at 3 ,4, and 7)\n",
    "2. feature 1: Y-position of the middle line (look at 4 middle line)\n",
    "3. feature 2: Width\n",
    "4. feature 3: Nothing\n",
    "5. feature 4: Angle \n",
    "6. feature 5: Nothing\n",
    "7. feature 6: Stroke\n",
    "8. feature 7: Not sure\n",
    "9. feature 8: Top circle gets bigger, the other one smaller\n",
    "10. feature 9: Nothing\n",
    "\n",
    "## Features $z_{i}$ vs $z_{j}$ for Digits:"
   ]
  },
  {
   "cell_type": "code",
   "execution_count": null,
   "metadata": {
    "collapsed": true
   },
   "outputs": [],
   "source": [
    "def zi_vs_zj(z_index1, z_index2, zmin=3, zmax=3, num_z=10, digit=0):\n",
    "    f, axarr = plt.subplots(num_z, num_z, figsize=(num_z, num_z), sharey=True)\n",
    "    f.suptitle(r'$Digit: %s$' % digit , fontsize=30)\n",
    "    z_range = np.linspace(zmin,zmax,num=num_z)\n",
    "    \n",
    "    for i in range(num_z):\n",
    "        for j in range(num_z):\n",
    "            z = torch.zeros(1,NUM_STYLE)\n",
    "            z[0,z_index1] = z_range[i]\n",
    "            z[0,z_index2] = z_range[j]\n",
    "            z = Variable(z.cuda())\n",
    "            y_hot = np.zeros((1,NUM_DIGITS))\n",
    "            y_hot[0,digit] = 1\n",
    "            y_hot = Variable(torch.FloatTensor(y_hot).cuda())\n",
    "            q_null = {'z':z, 'y':y_hot}\n",
    "            null_image = Variable(torch.Tensor(np.zeros((1, NUM_PIXELS)))).cuda()\n",
    "            p = dec(null_image, q_null, num_samples=NUM_SAMPLES) \n",
    "            image = p['images']\n",
    "            pixels = int(np.sqrt(NUM_PIXELS))\n",
    "            image = image.value.cpu().data.numpy().reshape(pixels,pixels)\n",
    "            axarr[i,j].imshow(image)\n",
    "            axarr[i,j].axis('off')\n",
    "    f.text(0.52, 0.08, r'$\\mathbf{z_{%d}}$' % z_index2, ha='center', fontsize=20)\n",
    "    f.text(0.09, 0.5, r'$\\mathbf{z_{%d}}$' % z_index1, va='center', rotation='vertical', fontsize=20)"
   ]
  },
  {
   "cell_type": "code",
   "execution_count": null,
   "metadata": {
    "collapsed": true,
    "scrolled": false
   },
   "outputs": [],
   "source": [
    "z_index1 = 6\n",
    "z_index2 = 4\n",
    "for digit in range(NUM_DIGITS):\n",
    "    zi_vs_zj(z_index1, z_index2, zmin=-3, zmax=3, num_z=10, digit=digit)\n",
    "    plt.show()"
   ]
  },
  {
   "cell_type": "markdown",
   "metadata": {},
   "source": [
    "## Track terms Vs iters"
   ]
  },
  {
   "cell_type": "code",
   "execution_count": null,
   "metadata": {
    "collapsed": true
   },
   "outputs": [],
   "source": [
    "fig = plt.figure(figsize=(20,10))\n",
    "iters = np.arange(NUM_EPOCHS)\n",
    "for label in train_elbo_dict:\n",
    "    plt.plot(iters, train_elbo_dict[label], label=label, linewidth=3)\n",
    "plt.legend(prop={'size': 20})\n",
    "plt.xlabel(\"iter\", fontsize=20)\n",
    "plt.title(\" Training Process\", fontsize=20)\n",
    "plt.grid(True)\n",
    "plt.show()"
   ]
  },
  {
   "cell_type": "code",
   "execution_count": null,
   "metadata": {
    "collapsed": true
   },
   "outputs": [],
   "source": [
    "fig = plt.figure(figsize=(20,10))\n",
    "iters = np.arange(NUM_EPOCHS)\n",
    "for label in test_elbo_dict:\n",
    "    plt.plot(iters, test_elbo_dict[label], label=label, linewidth=3)\n",
    "plt.legend(prop={'size': 20})\n",
    "plt.xlabel(\"iter\", fontsize=20)\n",
    "plt.title(\" Testing Process\", fontsize=20)\n",
    "plt.grid(True)\n",
    "plt.show()"
   ]
  },
  {
   "cell_type": "code",
   "execution_count": null,
   "metadata": {
    "collapsed": true
   },
   "outputs": [],
   "source": []
  }
 ],
 "metadata": {
  "kernelspec": {
   "display_name": "pytorchie",
   "language": "python",
   "name": "pytorchie"
  },
  "language_info": {
   "codemirror_mode": {
    "name": "ipython",
    "version": 3
   },
   "file_extension": ".py",
   "mimetype": "text/x-python",
   "name": "python",
   "nbconvert_exporter": "python",
   "pygments_lexer": "ipython3",
   "version": "3.6.3"
  }
 },
 "nbformat": 4,
 "nbformat_minor": 2
}
